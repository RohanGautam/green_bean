{
 "cells": [
  {
   "cell_type": "code",
   "execution_count": 3,
   "metadata": {},
   "outputs": [
    {
     "data": {
      "text/plain": [
       "True"
      ]
     },
     "execution_count": 3,
     "metadata": {},
     "output_type": "execute_result"
    }
   ],
   "source": [
    "import os\n",
    "import dotenv\n",
    "import pinecone\n",
    "from langchain.vectorstores import Pinecone\n",
    "from langchain.embeddings.openai import OpenAIEmbeddings\n",
    "\n",
    "# populate environment with secrets from file\n",
    "dotenv.load_dotenv(\".env\")"
   ]
  },
  {
   "cell_type": "code",
   "execution_count": 5,
   "metadata": {},
   "outputs": [],
   "source": [
    "pinecone.init(\n",
    "    api_key=os.getenv(\"PINECONE_API_KEY\"),  # find at app.pinecone.io\n",
    "    environment=os.getenv(\"PINECONE_ENV\"),  # next to api key in console\n",
    ")\n",
    "index_name = \"db-india\""
   ]
  },
  {
   "cell_type": "code",
   "execution_count": 6,
   "metadata": {},
   "outputs": [],
   "source": [
    "embeddings = OpenAIEmbeddings()\n",
    "db = Pinecone.from_existing_index(index_name=index_name, embedding=embeddings)"
   ]
  },
  {
   "cell_type": "code",
   "execution_count": 7,
   "metadata": {},
   "outputs": [],
   "source": [
    "query = \"What does corporate social responsibility require me to do\"\n",
    "docs = db.similarity_search(query)"
   ]
  },
  {
   "cell_type": "code",
   "execution_count": 8,
   "metadata": {},
   "outputs": [
    {
     "name": "stdout",
     "output_type": "stream",
     "text": [
      "(i)Guidance Note  \n",
      "on \n",
      "Corporate Social  \n",
      "Responsibility\n",
      "----------------------------------------\n",
      "1GUIDANCE NOTE  \n",
      "ON  \n",
      "CORPORATE SOCIAL RESPONSIBILITY\n",
      "INTRODUCTION\n",
      "Augmenting profits is no longer the sole business performance indicator for the \n",
      "corporates and they have to play the role of responsible corporate citizens by \n",
      "undertaking activities for betterment of the society and the environment under \n",
      "the umbrella of Corporate Social Responsibility (CSR). \n",
      "Organisations use resources that belongs to the society and it is expected that \n",
      "they should operate in a sustainable manner and spend some amounts for \n",
      "preservation and sustainability of resources which belong to the society. \n",
      "Over the last two decades, significant economic growth and integration has \n",
      "taken place in the global economy, resulting in several changes in the way \n",
      "businesses operate. Governments across the world have been using different \n",
      "forms of regulations to improve corporate behavior so as to promote increased \n",
      "accountability, disclosures and transparency from them. Gone are the days when\n",
      "----------------------------------------\n",
      "Guidance Note on Corporate Social Responsibility92\n",
      " 2. Businesses should provide stakeholders across the value chain with \n",
      "adequate information about environmental and social issues and \n",
      "impacts across product life cycle from design to disposal. This may \n",
      "be done through appropriate and relevant tools such as certifications, \n",
      "labels, ratings and other communication and disclosure platforms \n",
      "including reports, websites, etc.\n",
      " 3. Businesses should increasingly take responsibility for the safe \n",
      "collection, reuse and recycling of their products at life so as to build \n",
      "a circular economy as a part of the notion of extended producer \n",
      "responsibility that is increasingly becoming a part of regulation in \n",
      "India and globally.\n",
      "Principle 3: Businesses should respect and promote the well-being of \n",
      "all employees, including those in their value chains.\n",
      "This Principle encompasses all policies and practices relating to the equity,\n",
      "----------------------------------------\n",
      "Guidance Note on Corporate Social Responsibility6\n",
      " \n",
      " \n",
      " \n",
      " \n",
      " \n",
      "  \n",
      " \n",
      " \n",
      " \n",
      " \n",
      " \n",
      " \n",
      " \n",
      "  \n",
      " \n",
      " \n",
      "  \n",
      " \n",
      " \n",
      "   \n",
      " \n",
      "   \n",
      " \n",
      "  \n",
      "National Guidelines on Responsible Business Conduct \n",
      "Principle 2:  Businesses should provide goods and services in a manner that is  \n",
      "sustainable and safe. \n",
      "Principle 1:  Businesses should conduct and govern themselves with integrity,  \n",
      "and in a manner that is ethical, transparent, and accountable. \n",
      "Principle 3:  Businesses should respect and promote the well-being of all employees, \n",
      "including those in their value chains. \n",
      "Principle 4:  Businesses should respect the interests of and be responsive to all its \n",
      "stakeholders. \n",
      "Principle 5:  Businesses should respect and promote human rights. \n",
      "Principle 6:  Businesses should respect and make efforts to protect and restore the \n",
      "environment. \n",
      "Principle 7:  Businesses, when engaging in influencing public and regulatory policy,  \n",
      "should do so in a manner that is responsible and transparent.\n",
      "----------------------------------------\n"
     ]
    }
   ],
   "source": [
    "for d in docs:\n",
    "    print(d.page_content)\n",
    "    print('-'*40)"
   ]
  },
  {
   "cell_type": "code",
   "execution_count": null,
   "metadata": {},
   "outputs": [],
   "source": [
    "## if you want to clear it\n",
    "# pinecone.Index(index_name).delete(delete_all=True)z"
   ]
  }
 ],
 "metadata": {
  "kernelspec": {
   "display_name": "hackathon",
   "language": "python",
   "name": "python3"
  },
  "language_info": {
   "codemirror_mode": {
    "name": "ipython",
    "version": 3
   },
   "file_extension": ".py",
   "mimetype": "text/x-python",
   "name": "python",
   "nbconvert_exporter": "python",
   "pygments_lexer": "ipython3",
   "version": "3.11.0"
  },
  "orig_nbformat": 4
 },
 "nbformat": 4,
 "nbformat_minor": 2
}
