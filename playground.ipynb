{
 "cells": [
  {
   "cell_type": "code",
   "execution_count": 95,
   "metadata": {},
   "outputs": [],
   "source": [
    "from dotenv import dotenv_values\n",
    "import dotenv\n",
    "import pathlib\n",
    "import os\n",
    "\n",
    "from langchain.llms import OpenAI\n",
    "from langchain.chat_models import ChatOpenAI\n",
    "from langchain.embeddings.openai import OpenAIEmbeddings\n",
    "from langchain.text_splitter import CharacterTextSplitter, RecursiveCharacterTextSplitter\n",
    "from langchain.vectorstores import Chroma, Weaviate, Pinecone\n",
    "from langchain.docstore.document import Document\n",
    "from langchain.prompts import PromptTemplate\n",
    "from langchain.indexes.vectorstore import VectorstoreIndexCreator\n",
    "from langchain.document_loaders import PyPDFLoader, PyPDFDirectoryLoader\n",
    "\n",
    "import pinecone\n",
    "\n",
    "dotenv.load_dotenv(\".env\")\n",
    "config = dotenv_values(\".env\")\n",
    "OPENAI_KEY = config[\"OPENAI_API_KEY\"]\n",
    "WEVIATE_URL=config['WEAVIATE_URL']"
   ]
  },
  {
   "cell_type": "code",
   "execution_count": 36,
   "metadata": {},
   "outputs": [],
   "source": [
    "# llm = OpenAI(openai_api_key=OPENAI_KEY, model='gpt-3.5-turbo')\n",
    "# print(llm.predict(\"I am a business in the tech industry planning to open a branch in India. What are the relavant sustainability regulations I should be aware of?\"))"
   ]
  },
  {
   "cell_type": "code",
   "execution_count": 137,
   "metadata": {},
   "outputs": [],
   "source": [
    "\n",
    "# llm = ChatOpenAI(openai_api_key=OPENAI_KEY, model='gpt-3.5-turbo')\n",
    "llm = ChatOpenAI(openai_api_key=OPENAI_KEY, model='gpt-4')"
   ]
  },
  {
   "cell_type": "code",
   "execution_count": 138,
   "metadata": {},
   "outputs": [
    {
     "name": "stdout",
     "output_type": "stream",
     "text": [
      "1. Environmental Protection Agency (EPA) Regulations: The EPA has numerous regulations that businesses, especially in the tech industry, must adhere to. These include regulations on waste disposal, air and water pollution, and the use of certain chemicals.\n",
      "\n",
      "2. Energy Use Regulations: The Department of Energy (DOE) has various regulations on energy use and efficiency. If your business uses a significant amount of energy, you may need to comply with these regulations.\n",
      "\n",
      "3. Occupational Safety and Health Administration (OSHA) Regulations: OSHA has regulations to ensure the safety and health of workers. These regulations may apply to your business, especially if you operate in a manufacturing capacity.\n",
      "\n",
      "4. Electronic Waste Disposal: If your tech company produces electronic devices, you need to comply with the regulations on e-waste disposal. The specific regulations can vary from state to state.\n",
      "\n",
      "5. Toxic Substances Control Act (TSCA): The TSCA gives EPA the authority to regulate new and existing chemicals. Tech companies often deal with various chemicals, so you might need to comply with TSCA.\n",
      "\n",
      "6. Greenhouse Gas Reporting Program (GHGRP): Businesses that emit large quantities of greenhouse gases are required to report their emissions to the EPA under the GHGRP.\n",
      "\n",
      "7. Endangered Species Act: Businesses must take care not to harm the habitats of endangered species. This could potentially affect where you are able to locate your business.\n",
      "\n",
      "8. State and Local Regulations: In addition to federal regulations, there may be state and local regulations that you need to comply with. These can vary widely, so it's important to research the regulations in the specific location where you plan to open your branch.\n",
      "\n",
      "9. Conflict Minerals Rules: Under the Dodd-Frank Act, companies are required to disclose whether their products contain conflict minerals – tin, tungsten, tantalum, and gold – sourced from the Democratic Republic of Congo or adjoining countries.\n",
      "\n",
      "10. RoHS and WEEE directives: Although these are EU directives, they have a global impact. RoHS restricts the use of certain hazardous substances in electrical and electronic equipment, and WEEE aims to reduce the waste from such equipment.\n",
      "\n",
      "Remember, this list is not exhaustive and the relevance can vary based on the specifics of your business. It's always a good idea to consult with a legal expert to understand the full range of regulations that may apply to your business.\n"
     ]
    }
   ],
   "source": [
    "print(llm.predict(\"I am a business in the tech industry planning to open a branch in USA. What are the relavant sustainability regulations I should be aware of?\"))"
   ]
  },
  {
   "cell_type": "code",
   "execution_count": 140,
   "metadata": {},
   "outputs": [
    {
     "name": "stdout",
     "output_type": "stream",
     "text": [
      "1. Understanding Regulations: Begin by familiarizing yourself with current sustainability regulations in the USA. These may include regulations on emissions, waste disposal, energy use, etc. \n",
      "\n",
      "2. Compliance Audit: Conduct a compliance audit to identify areas where your business may not be meeting sustainability regulations. This will help you prioritize what changes need to be made.\n",
      "\n",
      "3. Implement Green Practices: Take steps to reduce your business's environmental impact. This could include recycling, conserving energy, using greener materials, etc.\n",
      "\n",
      "4. Train Employees: Ensure your employees understand sustainability regulations and how they impact their roles. Train them on best practices for sustainability.\n",
      "\n",
      "5. Develop a Sustainability Plan: Create a long-term plan to improve your business's sustainability. This could include setting goals for reducing waste, improving energy efficiency, etc.\n",
      "\n",
      "6. Monitor Changes: Keep up-to-date with any changes in sustainability regulations. This will ensure your business remains compliant.\n",
      "\n",
      "7. Engage Stakeholders: Communicate with your stakeholders about your sustainability efforts. This includes employees, customers, investors, and the local community.\n",
      "\n",
      "8. Hire a Sustainability Officer: Consider hiring a sustainability officer or consultant to help guide your efforts and ensure compliance.\n",
      "\n",
      "9. Report Progress: Regularly report on your progress towards your sustainability goals. This can help you identify areas for improvement and keep stakeholders informed.\n",
      "\n",
      "10. Advocate for Sustainability: Advocate for stronger sustainability regulations within your industry. This not only benefits the environment, but can also help position your business as a leader in sustainability.\n"
     ]
    }
   ],
   "source": [
    "print(llm.predict('what are some actionable tasks i can do for my business related to sustainability regulations in the USA?'))"
   ]
  },
  {
   "cell_type": "code",
   "execution_count": 12,
   "metadata": {},
   "outputs": [
    {
     "name": "stdout",
     "output_type": "stream",
     "text": [
      "India has several regulations and laws in place to address water pollution. Some of the key rules and acts related to water pollution in India include:\n",
      "\n",
      "1. Water (Prevention and Control of Pollution) Act, 1974: This act provides for the prevention and control of water pollution by establishing central and state pollution control boards. It outlines the powers and functions of these boards and sets guidelines for the prevention, control, and abatement of water pollution.\n",
      "\n",
      "2. Environment (Protection) Act, 1986: This act empowers the central government to take necessary measures for protecting and improving the quality of the environment, including water resources. It provides for the regulation of discharge of pollutants into water bodies and sets standards for water quality.\n",
      "\n",
      "3. Municipal Solid Wastes (Management and Handling) Rules, 2000: These rules focus on the management and handling of solid wastes to prevent their disposal into water bodies, which can cause pollution.\n",
      "\n",
      "4. Biological Diversity Act, 2002: This act aims to conserve biological diversity, including water bodies and their ecosystems, by regulating activities that may have adverse impacts on them.\n",
      "\n",
      "5. National Water Policy, 2012: The policy provides a framework for the conservation, development, and management of water resources in India, including the prevention and control of water pollution.\n",
      "\n",
      "6. The Water (Prevention and Control of Pollution) Cess Act, 1977: This act imposes a cess on water consumption to generate funds for the prevention and control of water pollution.\n",
      "\n",
      "Additionally, there are specific rules and guidelines issued by the Central Pollution Control Board (CPCB) and State Pollution Control Boards (SPCBs) to regulate various activities that contribute to water pollution, such as industrial effluent discharge, municipal wastewater treatment, and groundwater management. These rules set standards for effluent and sewage treatment, monitoring and reporting requirements, and penalties for non-compliance.\n"
     ]
    }
   ],
   "source": [
    "print(llm.predict(\"what are india's water pollution rules?\"))"
   ]
  },
  {
   "cell_type": "markdown",
   "metadata": {},
   "source": [
    "# Parse pdfs"
   ]
  },
  {
   "cell_type": "code",
   "execution_count": 22,
   "metadata": {},
   "outputs": [],
   "source": [
    "# data_folder = pathlib.Path('./assets/india')\n",
    "# document_paths = [p for p in data_folder.iterdir() if p.is_file()]\n"
   ]
  },
  {
   "cell_type": "code",
   "execution_count": 63,
   "metadata": {},
   "outputs": [],
   "source": [
    "# pages_all = []\n",
    "# for p in document_paths:\n",
    "#     loader = PyPDFLoader(p.__str__())\n",
    "#     pages = loader.load_and_split()\n",
    "#     pages_all.extend(pages)"
   ]
  },
  {
   "cell_type": "code",
   "execution_count": 120,
   "metadata": {},
   "outputs": [],
   "source": [
    "loader = PyPDFDirectoryLoader('./assets/india/')\n",
    "docs = loader.load_and_split(RecursiveCharacterTextSplitter(chunk_size=1000, chunk_overlap=20))\n",
    "# docs = loader.load_and_split()"
   ]
  },
  {
   "cell_type": "code",
   "execution_count": 110,
   "metadata": {},
   "outputs": [
    {
     "data": {
      "text/plain": [
       "[<matplotlib.lines.Line2D at 0x282729690>]"
      ]
     },
     "execution_count": 110,
     "metadata": {},
     "output_type": "execute_result"
    },
    {
     "data": {
      "image/png": "[encoded data removed]",
      "text/plain": [
       "<Figure size 640x480 with 1 Axes>"
      ]
     },
     "metadata": {},
     "output_type": "display_data"
    }
   ],
   "source": [
    "import matplotlib.pyplot as plt\n",
    "plt.plot([len(p.page_content) for p in docs])"
   ]
  },
  {
   "cell_type": "code",
   "execution_count": 122,
   "metadata": {},
   "outputs": [],
   "source": [
    "embeddings_model = OpenAIEmbeddings()"
   ]
  },
  {
   "cell_type": "code",
   "execution_count": 118,
   "metadata": {},
   "outputs": [
    {
     "name": "stderr",
     "output_type": "stream",
     "text": [
      "/Users/rohan/miniconda3/envs/hackathon/lib/python3.11/site-packages/pinecone/core/client/rest.py:45: DeprecationWarning: HTTPResponse.getheader() is deprecated and will be removed in urllib3 v2.1.0. Instead use HTTPResponse.headers.get(name, default).\n",
      "  return self.urllib3_response.getheader(name, default)\n"
     ]
    }
   ],
   "source": [
    "pinecone.init(\n",
    "    api_key=os.getenv(\"PINECONE_API_KEY\"),  # find at app.pinecone.io\n",
    "    environment=os.getenv(\"PINECONE_ENV\"),  # next to api key in console\n",
    ")\n",
    "index_name = \"db-india\"\n",
    "\n",
    "# First, check if our index already exists. If it doesn't, we create it\n",
    "if index_name not in pinecone.list_indexes():\n",
    "    # we create a new index\n",
    "    # dimension via openai embedding spec\n",
    "    pinecone.create_index(name=index_name, metric=\"cosine\", dimension=1536)\n"
   ]
  },
  {
   "cell_type": "code",
   "execution_count": 121,
   "metadata": {},
   "outputs": [
    {
     "data": {
      "text/plain": [
       "{}"
      ]
     },
     "execution_count": 121,
     "metadata": {},
     "output_type": "execute_result"
    }
   ],
   "source": [
    "# pinecone.Index(index_name).delete(delete_all=True)"
   ]
  },
  {
   "cell_type": "code",
   "execution_count": 123,
   "metadata": {},
   "outputs": [],
   "source": [
    "# db = Weaviate.from_documents(docs, embeddings_model, by_text=False)\n",
    "db = Pinecone.from_documents(docs, embeddings_model, index_name=index_name)"
   ]
  },
  {
   "cell_type": "code",
   "execution_count": 132,
   "metadata": {},
   "outputs": [],
   "source": [
    "query = \"What does corporate social responsibility require me to do\"\n",
    "docs = db.similarity_search(query)"
   ]
  },
  {
   "cell_type": "code",
   "execution_count": 133,
   "metadata": {},
   "outputs": [
    {
     "data": {
      "text/plain": [
       "56"
      ]
     },
     "execution_count": 133,
     "metadata": {},
     "output_type": "execute_result"
    }
   ],
   "source": [
    "len(docs[0].page_content)"
   ]
  },
  {
   "cell_type": "code",
   "execution_count": 135,
   "metadata": {},
   "outputs": [
    {
     "name": "stdout",
     "output_type": "stream",
     "text": [
      "1GUIDANCE NOTE  \n",
      "ON  \n",
      "CORPORATE SOCIAL RESPONSIBILITY\n",
      "INTRODUCTION\n",
      "Augmenting profits is no longer the sole business performance indicator for the \n",
      "corporates and they have to play the role of responsible corporate citizens by \n",
      "undertaking activities for betterment of the society and the environment under \n",
      "the umbrella of Corporate Social Responsibility (CSR). \n",
      "Organisations use resources that belongs to the society and it is expected that \n",
      "they should operate in a sustainable manner and spend some amounts for \n",
      "preservation and sustainability of resources which belong to the society. \n",
      "Over the last two decades, significant economic growth and integration has \n",
      "taken place in the global economy, resulting in several changes in the way \n",
      "businesses operate. Governments across the world have been using different \n",
      "forms of regulations to improve corporate behavior so as to promote increased \n",
      "accountability, disclosures and transparency from them. Gone are the days when\n"
     ]
    }
   ],
   "source": [
    "print(docs[1].page_content)"
   ]
  }
 ],
 "metadata": {
  "kernelspec": {
   "display_name": "hackathon",
   "language": "python",
   "name": "python3"
  },
  "language_info": {
   "codemirror_mode": {
    "name": "ipython",
    "version": 3
   },
   "file_extension": ".py",
   "mimetype": "text/x-python",
   "name": "python",
   "nbconvert_exporter": "python",
   "pygments_lexer": "ipython3",
   "version": "3.11.0"
  },
  "orig_nbformat": 4
 },
 "nbformat": 4,
 "nbformat_minor": 2
}
