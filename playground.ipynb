{
 "cells": [
  {
   "cell_type": "code",
   "execution_count": 1,
   "metadata": {},
   "outputs": [],
   "source": [
    "from dotenv import dotenv_values\n",
    "from langchain.llms import OpenAI\n",
    "config = dotenv_values(\".env\")\n",
    "OPENAI_KEY = config[\"OPENAI_KEY\"]"
   ]
  },
  {
   "cell_type": "code",
   "execution_count": 2,
   "metadata": {},
   "outputs": [
    {
     "name": "stdout",
     "output_type": "stream",
     "text": [
      "\n",
      "\n",
      "1. Mount Everest stands at an incredible 8,848 meters (29,029 ft) tall, making it the highest mountain in the world.\n",
      "\n",
      "2. Mount Everest is located in the Mahalangur Himal sub-range of the Himalayas in Nepal and Tibet.\n",
      "\n",
      "3. The first successful summit of Everest was completed by Edmund Hillary and Tenzing Norgay in 1953.\n",
      "\n",
      "4. The peak was named after Sir George Everest, a British surveyor-general of India.\n",
      "\n",
      "5. Mount Everest has two main climbing routes, the southeast ridge from Nepal and the north ridge from Tibet.\n",
      "\n",
      "6. The temperature at the summit of Mount Everest can drop to as low as -76°F (-60°C).\n",
      "\n",
      "7. The lowest point on Mount Everest is the Western Cwm at 17,600 feet (5,364 meters).\n",
      "\n",
      "8. The average altitude of Mount Everest is 26,000 feet (8,000 meters).\n",
      "\n",
      "9. Mount Everest is home to some of the most extreme conditions on the planet, with high winds and freezing temperatures.\n",
      "\n",
      "10. There are over 200 bodies on the mountain, most of which remain frozen in place.\n"
     ]
    }
   ],
   "source": [
    "llm = OpenAI(openai_api_key=OPENAI_KEY)\n",
    "print(llm.predict(\"what are some fun facts about mt everest?\"))"
   ]
  },
  {
   "cell_type": "markdown",
   "metadata": {},
   "source": [
    "## need document source(s) to proceed"
   ]
  },
  {
   "cell_type": "code",
   "execution_count": null,
   "metadata": {},
   "outputs": [],
   "source": []
  }
 ],
 "metadata": {
  "kernelspec": {
   "display_name": "hackathon",
   "language": "python",
   "name": "python3"
  },
  "language_info": {
   "codemirror_mode": {
    "name": "ipython",
    "version": 3
   },
   "file_extension": ".py",
   "mimetype": "text/x-python",
   "name": "python",
   "nbconvert_exporter": "python",
   "pygments_lexer": "ipython3",
   "version": "3.11.0"
  },
  "orig_nbformat": 4
 },
 "nbformat": 4,
 "nbformat_minor": 2
}
