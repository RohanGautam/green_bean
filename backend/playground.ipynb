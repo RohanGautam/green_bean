{
 "cells": [
  {
   "cell_type": "code",
   "execution_count": 145,
   "metadata": {},
   "outputs": [],
   "source": [
    "from dotenv import dotenv_values\n",
    "import dotenv\n",
    "import pathlib\n",
    "import os\n",
    "\n",
    "from langchain.llms import OpenAI\n",
    "from langchain.chains import LLMChain\n",
    "from langchain.chat_models import ChatOpenAI\n",
    "from langchain.embeddings.openai import OpenAIEmbeddings\n",
    "from langchain.text_splitter import CharacterTextSplitter, RecursiveCharacterTextSplitter\n",
    "from langchain.vectorstores import Chroma, Weaviate, Pinecone\n",
    "from langchain.docstore.document import Document\n",
    "from langchain.prompts import PromptTemplate\n",
    "from langchain.indexes.vectorstore import VectorstoreIndexCreator\n",
    "from langchain.document_loaders import PyPDFLoader, PyPDFDirectoryLoader\n",
    "\n",
    "import pinecone\n",
    "\n",
    "dotenv.load_dotenv(\".env\")\n",
    "config = dotenv_values(\".env\")\n",
    "OPENAI_KEY = config[\"OPENAI_API_KEY\"]\n",
    "# WEVIATE_URL=config['WEAVIATE_URL']"
   ]
  },
  {
   "cell_type": "code",
   "execution_count": 36,
   "metadata": {},
   "outputs": [],
   "source": [
    "# llm = OpenAI(openai_api_key=OPENAI_KEY, model='gpt-3.5-turbo')\n",
    "# print(llm.predict(\"I am a business in the tech industry planning to open a branch in India. What are the relavant sustainability regulations I should be aware of?\"))"
   ]
  },
  {
   "cell_type": "code",
   "execution_count": 159,
   "metadata": {},
   "outputs": [],
   "source": [
    "\n",
    "# llm = ChatOpenAI(openai_api_key=OPENAI_KEY, model='gpt-3.5-turbo')\n",
    "llm = ChatOpenAI(openai_api_key=OPENAI_KEY, model='gpt-4')"
   ]
  },
  {
   "cell_type": "code",
   "execution_count": 160,
   "metadata": {},
   "outputs": [
    {
     "name": "stdout",
     "output_type": "stream",
     "text": [
      "1. Environmental Impact Assessment (EIA): The Environmental Protection and Management Act (EPMA) in Singapore necessitates the need for an Environmental Impact Assessment (EIA) for certain types of projects. Businesses involved in large-scale development or industrial projects may need to conduct an EIA to assess their potential environmental impact.\n",
      "\n",
      "2. Pollution Control: The EPMA also governs air and water pollution in Singapore. Businesses must comply with air emission and water discharge standards and may need to install pollution control equipment.\n",
      "\n",
      "3. Energy Efficiency: The Energy Conservation Act mandates large energy users in the industrial sector to appoint an energy manager, monitor and report energy use and greenhouse gas emissions, and submit energy efficiency improvement plans.\n",
      "\n",
      "4. Hazardous Substances: The EPMA requires businesses that use hazardous substances to obtain a license and comply with storage and handling regulations. \n",
      "\n",
      "5. Waste Management: The Waste Management and Minimisation Act requires businesses to manage waste in a manner that protects public health and the environment. \n",
      "\n",
      "6. Green Mark Certification: The Building and Construction Authority (BCA) encourages businesses to achieve Green Mark Certification, a benchmarking scheme which incorporates internationally recognized best practices in environmental design and performance.\n",
      "\n",
      "7. Sustainable Business Practices: The Singapore Exchange (SGX) has introduced sustainability reporting for listed companies. Companies are expected to report on their sustainability practices and performances on a 'comply or explain' basis.\n",
      "\n",
      "8. Carbon Pricing Act: Singapore introduced the Carbon Pricing Act in 2019 which requires large direct emitters of greenhouse gases to pay a carbon tax. This is part of Singapore’s strategy to reduce its emissions intensity.\n",
      "\n",
      "It's important to engage with a legal expert or consultant to fully understand the implications and requirements of these regulations on your specific business.\n"
     ]
    }
   ],
   "source": [
    "print(llm.predict(\"I am a business in the tech industry planning to open a branch in Singapore. What are the relavant sustainability regulations I should be aware of?\"))"
   ]
  },
  {
   "cell_type": "code",
   "execution_count": 140,
   "metadata": {},
   "outputs": [
    {
     "name": "stdout",
     "output_type": "stream",
     "text": [
      "1. Understanding Regulations: Begin by familiarizing yourself with current sustainability regulations in the USA. These may include regulations on emissions, waste disposal, energy use, etc. \n",
      "\n",
      "2. Compliance Audit: Conduct a compliance audit to identify areas where your business may not be meeting sustainability regulations. This will help you prioritize what changes need to be made.\n",
      "\n",
      "3. Implement Green Practices: Take steps to reduce your business's environmental impact. This could include recycling, conserving energy, using greener materials, etc.\n",
      "\n",
      "4. Train Employees: Ensure your employees understand sustainability regulations and how they impact their roles. Train them on best practices for sustainability.\n",
      "\n",
      "5. Develop a Sustainability Plan: Create a long-term plan to improve your business's sustainability. This could include setting goals for reducing waste, improving energy efficiency, etc.\n",
      "\n",
      "6. Monitor Changes: Keep up-to-date with any changes in sustainability regulations. This will ensure your business remains compliant.\n",
      "\n",
      "7. Engage Stakeholders: Communicate with your stakeholders about your sustainability efforts. This includes employees, customers, investors, and the local community.\n",
      "\n",
      "8. Hire a Sustainability Officer: Consider hiring a sustainability officer or consultant to help guide your efforts and ensure compliance.\n",
      "\n",
      "9. Report Progress: Regularly report on your progress towards your sustainability goals. This can help you identify areas for improvement and keep stakeholders informed.\n",
      "\n",
      "10. Advocate for Sustainability: Advocate for stronger sustainability regulations within your industry. This not only benefits the environment, but can also help position your business as a leader in sustainability.\n"
     ]
    }
   ],
   "source": [
    "print(llm.predict('what are some actionable tasks i can do for my business related to sustainability regulations in the USA?'))"
   ]
  },
  {
   "cell_type": "code",
   "execution_count": 12,
   "metadata": {},
   "outputs": [
    {
     "name": "stdout",
     "output_type": "stream",
     "text": [
      "India has several regulations and laws in place to address water pollution. Some of the key rules and acts related to water pollution in India include:\n",
      "\n",
      "1. Water (Prevention and Control of Pollution) Act, 1974: This act provides for the prevention and control of water pollution by establishing central and state pollution control boards. It outlines the powers and functions of these boards and sets guidelines for the prevention, control, and abatement of water pollution.\n",
      "\n",
      "2. Environment (Protection) Act, 1986: This act empowers the central government to take necessary measures for protecting and improving the quality of the environment, including water resources. It provides for the regulation of discharge of pollutants into water bodies and sets standards for water quality.\n",
      "\n",
      "3. Municipal Solid Wastes (Management and Handling) Rules, 2000: These rules focus on the management and handling of solid wastes to prevent their disposal into water bodies, which can cause pollution.\n",
      "\n",
      "4. Biological Diversity Act, 2002: This act aims to conserve biological diversity, including water bodies and their ecosystems, by regulating activities that may have adverse impacts on them.\n",
      "\n",
      "5. National Water Policy, 2012: The policy provides a framework for the conservation, development, and management of water resources in India, including the prevention and control of water pollution.\n",
      "\n",
      "6. The Water (Prevention and Control of Pollution) Cess Act, 1977: This act imposes a cess on water consumption to generate funds for the prevention and control of water pollution.\n",
      "\n",
      "Additionally, there are specific rules and guidelines issued by the Central Pollution Control Board (CPCB) and State Pollution Control Boards (SPCBs) to regulate various activities that contribute to water pollution, such as industrial effluent discharge, municipal wastewater treatment, and groundwater management. These rules set standards for effluent and sewage treatment, monitoring and reporting requirements, and penalties for non-compliance.\n"
     ]
    }
   ],
   "source": [
    "print(llm.predict(\"what are india's water pollution rules?\"))"
   ]
  },
  {
   "cell_type": "markdown",
   "metadata": {},
   "source": [
    "# Parse pdfs"
   ]
  },
  {
   "cell_type": "code",
   "execution_count": 22,
   "metadata": {},
   "outputs": [],
   "source": [
    "# data_folder = pathlib.Path('./assets/india')\n",
    "# document_paths = [p for p in data_folder.iterdir() if p.is_file()]\n"
   ]
  },
  {
   "cell_type": "code",
   "execution_count": 63,
   "metadata": {},
   "outputs": [],
   "source": [
    "# pages_all = []\n",
    "# for p in document_paths:\n",
    "#     loader = PyPDFLoader(p.__str__())\n",
    "#     pages = loader.load_and_split()\n",
    "#     pages_all.extend(pages)"
   ]
  },
  {
   "cell_type": "code",
   "execution_count": 188,
   "metadata": {},
   "outputs": [],
   "source": [
    "loader = PyPDFDirectoryLoader('./assets/singapore/')\n",
    "docs = loader.load_and_split(RecursiveCharacterTextSplitter(chunk_size=1000, chunk_overlap=20))\n",
    "# docs = loader.load_and_split()"
   ]
  },
  {
   "cell_type": "code",
   "execution_count": 189,
   "metadata": {},
   "outputs": [
    {
     "data": {
      "text/plain": [
       "[<matplotlib.lines.Line2D at 0x1791dd190>]"
      ]
     },
     "execution_count": 189,
     "metadata": {},
     "output_type": "execute_result"
    },
    {
     "data": {
      "image/png": "[encoded data removed]",
      "text/plain": [
       "<Figure size 640x480 with 1 Axes>"
      ]
     },
     "metadata": {},
     "output_type": "display_data"
    }
   ],
   "source": [
    "import matplotlib.pyplot as plt\n",
    "plt.plot([len(p.page_content) for p in docs])"
   ]
  },
  {
   "cell_type": "code",
   "execution_count": 190,
   "metadata": {},
   "outputs": [],
   "source": [
    "embeddings_model = OpenAIEmbeddings()"
   ]
  },
  {
   "cell_type": "code",
   "execution_count": 191,
   "metadata": {},
   "outputs": [
    {
     "name": "stderr",
     "output_type": "stream",
     "text": [
      "/Users/rohan/miniconda3/envs/hackathon/lib/python3.11/site-packages/pinecone/core/client/rest.py:45: DeprecationWarning: HTTPResponse.getheader() is deprecated and will be removed in urllib3 v2.1.0. Instead use HTTPResponse.headers.get(name, default).\n",
      "  return self.urllib3_response.getheader(name, default)\n"
     ]
    }
   ],
   "source": [
    "pinecone.init(\n",
    "    api_key=os.getenv(\"PINECONE_API_KEY\"),  # find at app.pinecone.io\n",
    "    environment=os.getenv(\"PINECONE_ENV\"),  # next to api key in console\n",
    ")\n",
    "index_name = \"db-all\"\n",
    "\n",
    "INDIA_NAMESPACE ='india'\n",
    "USA_NAMESPACE ='usa'\n",
    "SG_NAMESPACE ='singapore'\n",
    "\n",
    "# First, check if our index already exists. If it doesn't, we create it\n",
    "if index_name not in pinecone.list_indexes():\n",
    "    # we create a new index\n",
    "    # dimension via openai embedding spec\n",
    "    pinecone.create_index(name=index_name, metric=\"cosine\", dimension=1536)\n"
   ]
  },
  {
   "cell_type": "code",
   "execution_count": 121,
   "metadata": {},
   "outputs": [
    {
     "data": {
      "text/plain": [
       "{}"
      ]
     },
     "execution_count": 121,
     "metadata": {},
     "output_type": "execute_result"
    }
   ],
   "source": [
    "# pinecone.Index(index_name).delete(delete_all=True)"
   ]
  },
  {
   "cell_type": "code",
   "execution_count": 192,
   "metadata": {},
   "outputs": [
    {
     "name": "stderr",
     "output_type": "stream",
     "text": [
      "/Users/rohan/miniconda3/envs/hackathon/lib/python3.11/site-packages/pinecone/core/client/rest.py:45: DeprecationWarning: HTTPResponse.getheader() is deprecated and will be removed in urllib3 v2.1.0. Instead use HTTPResponse.headers.get(name, default).\n",
      "  return self.urllib3_response.getheader(name, default)\n"
     ]
    }
   ],
   "source": [
    "# db = Weaviate.from_documents(docs, embeddings_model, by_text=False)\n",
    "db = Pinecone.from_documents(docs, embeddings_model, index_name=index_name, namespace=SG_NAMESPACE)"
   ]
  },
  {
   "cell_type": "code",
   "execution_count": 193,
   "metadata": {},
   "outputs": [
    {
     "name": "stderr",
     "output_type": "stream",
     "text": [
      "/Users/rohan/miniconda3/envs/hackathon/lib/python3.11/site-packages/pinecone/core/client/rest.py:45: DeprecationWarning: HTTPResponse.getheader() is deprecated and will be removed in urllib3 v2.1.0. Instead use HTTPResponse.headers.get(name, default).\n",
      "  return self.urllib3_response.getheader(name, default)\n"
     ]
    }
   ],
   "source": [
    "query = \"What does corporate social responsibility require me to do\"\n",
    "docs = db.similarity_search(query, namespace=SG_NAMESPACE)"
   ]
  },
  {
   "cell_type": "code",
   "execution_count": 194,
   "metadata": {},
   "outputs": [
    {
     "data": {
      "text/plain": [
       "(4, 'assets/singapore/Sustainability Reporting - Singapore Exchange (SGX).pdf')"
      ]
     },
     "execution_count": 194,
     "metadata": {},
     "output_type": "execute_result"
    }
   ],
   "source": [
    "len(docs), docs[0].metadata['source']"
   ]
  },
  {
   "cell_type": "code",
   "execution_count": 195,
   "metadata": {},
   "outputs": [
    {
     "data": {
      "text/plain": [
       "'The TCFD’s interna\\x00onally recognised recommenda\\x00ons will guide issuers in providing consistent and decision-useful informa\\x00on\\nfor market par\\x00cipants. This is a ﬁrst step to be\\x00er prepare issuers for repor\\x00ng against an\\x00cipated global baseline sustainability\\nrepor\\x00ng standards to be developed by the Interna\\x00onal Sustainability Standards Board, which build on exis\\x00ng work of leading\\nsustainability repor\\x00ng organisa\\x00ons, including the TCFD.\\nComponents of a Sustainability Report\\nExpand All \\uf107\\nThe sustainability repor\\x00ng requirement \\uf107\\nMaterial ESG factors \\uf107\\nClimate-related disclosures \\uf107\\nPolicies and targets \\uf107\\nSustainabilityrepor\\x00ngframework \\uf107We use cookies to ensure that we give you the best experience on our website. If you click “Accept Cookies”, or con\\x00nue without\\nchanging your se\\x00ng s, you consent to their use. You can change your se\\x00ngs at any \\x00me. To learn more about how we collect\\nand use cookies, and how you conﬁgure or disable cookies, please click here.\\nAccept Cookies'"
      ]
     },
     "execution_count": 195,
     "metadata": {},
     "output_type": "execute_result"
    }
   ],
   "source": [
    "print\n",
    "(docs[0].page_content)"
   ]
  },
  {
   "cell_type": "code",
   "execution_count": null,
   "metadata": {},
   "outputs": [],
   "source": []
  },
  {
   "cell_type": "code",
   "execution_count": 185,
   "metadata": {},
   "outputs": [
    {
     "data": {
      "text/plain": [
       "976"
      ]
     },
     "execution_count": 185,
     "metadata": {},
     "output_type": "execute_result"
    }
   ],
   "source": [
    "len(docs[0].page_content)"
   ]
  },
  {
   "cell_type": "code",
   "execution_count": 148,
   "metadata": {},
   "outputs": [],
   "source": [
    "prompt_template = \"\"\"You are a large language model whose expertise is answering user queries about sustainability and sustainability policies in {country}. You want to help the user understand regulations and implement it in their business.\n",
    "You are given a query and a series of text embeddings from a regulatory documents in order of their cosine similarity to the query.\n",
    "You must return a detailed answer of the query taking into account information from the embeddings. \n",
    "    \n",
    "Given the question: {user_query}\n",
    "    \n",
    "and the following embeddings as data: \n",
    "\n",
    "1. {emb1}\n",
    "2. {emb2}\n",
    "3. {emb3}\n",
    "4. {emb4}\n",
    "\n",
    "\n",
    "Return a detailed answer.\"\"\"\n",
    "prompt = PromptTemplate(\n",
    "    input_variables=['country','user_query','emb1','emb2','emb3','emb4'],\n",
    "    template=prompt_template\n",
    ")"
   ]
  },
  {
   "cell_type": "code",
   "execution_count": 158,
   "metadata": {},
   "outputs": [
    {
     "name": "stderr",
     "output_type": "stream",
     "text": [
      "/Users/rohan/miniconda3/envs/hackathon/lib/python3.11/site-packages/pinecone/core/client/rest.py:45: DeprecationWarning: HTTPResponse.getheader() is deprecated and will be removed in urllib3 v2.1.0. Instead use HTTPResponse.headers.get(name, default).\n",
      "  return self.urllib3_response.getheader(name, default)\n"
     ]
    },
    {
     "name": "stdout",
     "output_type": "stream",
     "text": [
      "Based on the information from the provided embeddings, there are several measures you can take to make your sand transportation business more sustainable:\n",
      "\n",
      "1. **Understand Your Impact**: The first step to becoming more sustainable is to understand all material sustainability issues across your business life cycle and value chain. This includes understanding the environmental and social impact of your business at all stages, from establishment to closure. Special care should be taken where these impacts occur in eco-sensitive areas.\n",
      "\n",
      "2. **Develop Sustainable Strategies**: Develop strategies for sustainable and efficient use of natural resources, including your vehicles and other materials. Consider the expectations and concerns of all stakeholders, such as your employees, customers, and local communities, in your strategy development.\n",
      "\n",
      "3. **Measure Your Performance**: Define measurable key performance indicators (KPIs) and targets to monitor your performance on environmental aspects such as air, energy, materials, and waste. Regular monitoring will help you identify areas where you can improve.\n",
      "\n",
      "4. **Address Climate Change**: Focus on addressing climate change through the development of both mitigation and adaptation measures. This could include adopting low-carbon technologies or strategies to build climate resilience.\n",
      "\n",
      "5. **Reduce, Reuse, Recycle**: Learn from industry best practices for promoting reduction, reuse, recycling, and recovery of material and resources. This could involve reducing the amount of waste produced by your operations, reusing materials where possible, recycling waste, and recovering resources from waste.\n",
      "\n",
      "6. **Adopt Innovative Technologies**: Seek to improve your environmental performance by adopting innovative, resource-efficient and low-carbon technologies and solutions. This could result in lower resource footprint, lesser material consumption, and more positive impact on the environment, economy, and society.\n",
      "\n",
      "7. **Influence Policy Responsibly**: When engaging in influencing public and regulatory policy, do so in a responsible and transparent manner, ensuring that your growth aligns with national and international legislative and policy frameworks.\n",
      "\n",
      "8. **Waste Management**: If your business generates waste, ensure it is transported directly to a treatment plant in a segregated form. The type and number of vehicles used, as well as the frequency and quantity of waste transported, should be monitored and optimized for efficiency and minimal environmental impact.\n",
      "\n",
      "By implementing these measures, your sand transportation business can become more sustainable and contribute positively to India's commitments under the Paris Climate Change Agreement and National/State Action Plans on Climate Change.\n",
      "\n",
      "\n",
      "1. Corporate Social Responsibility (CSR) Rules under the Companies Act, 2013, page 99\n",
      "2. Corporate Social Responsibility (CSR) Rules under the Companies Act, 2013, page 104\n",
      "3. Solid_Waste_Management_Rules, page 35\n",
      "4. Corporate Social Responsibility (CSR) Rules under the Companies Act, 2013, page 104\n"
     ]
    }
   ],
   "source": [
    "# llm = ChatOpenAI(openai_api_key=OPENAI_KEY, model=\"gpt-3.5-turbo\")\n",
    "llm = ChatOpenAI(openai_api_key=OPENAI_KEY, model=\"gpt-4\")\n",
    "chain = LLMChain(llm=llm, prompt=prompt)\n",
    "\n",
    "# query = \"What do policies in india say about energy consumption for businesses?\"\n",
    "query = \"I have a sand transportation business. What are some measures I can take to be more sustainable?\"\n",
    "country = \"india\"\n",
    "# fetch relavant embeddings\n",
    "docs = db.similarity_search(query)\n",
    "emb_texts = [d.page_content for d in docs]\n",
    "emb_meta = [d.metadata for d in docs]\n",
    "\n",
    "result = chain.run(\n",
    "    country=country,\n",
    "    user_query=query,\n",
    "    emb1=emb_texts[0],\n",
    "    emb2=emb_texts[1],\n",
    "    emb3=emb_texts[2],\n",
    "    emb4=emb_texts[3],\n",
    ")\n",
    "\n",
    "source_strs = [pathlib.Path(m['source']).stem for m in emb_meta]\n",
    "source_str_add = '\\n'.join([f\"{i+1}. {s}, page {int(emb_meta[i]['page'])}\" for i,s in enumerate(source_strs)])\n",
    "print(result+'\\n\\n\\n'+source_str_add)"
   ]
  },
  {
   "cell_type": "code",
   "execution_count": 157,
   "metadata": {},
   "outputs": [
    {
     "data": {
      "text/plain": [
       "[{'page': 99.0,\n",
       "  'source': 'assets/india/Corporate Social Responsibility (CSR) Rules under the Companies Act, 2013.pdf'},\n",
       " {'page': 104.0,\n",
       "  'source': 'assets/india/Corporate Social Responsibility (CSR) Rules under the Companies Act, 2013.pdf'},\n",
       " {'page': 35.0, 'source': 'assets/india/Solid_Waste_Management_Rules.pdf'},\n",
       " {'page': 104.0,\n",
       "  'source': 'assets/india/Corporate Social Responsibility (CSR) Rules under the Companies Act, 2013.pdf'}]"
      ]
     },
     "execution_count": 157,
     "metadata": {},
     "output_type": "execute_result"
    }
   ],
   "source": [
    "emb_meta"
   ]
  },
  {
   "cell_type": "code",
   "execution_count": null,
   "metadata": {},
   "outputs": [],
   "source": []
  }
 ],
 "metadata": {
  "kernelspec": {
   "display_name": "hackathon",
   "language": "python",
   "name": "python3"
  },
  "language_info": {
   "codemirror_mode": {
    "name": "ipython",
    "version": 3
   },
   "file_extension": ".py",
   "mimetype": "text/x-python",
   "name": "python",
   "nbconvert_exporter": "python",
   "pygments_lexer": "ipython3",
   "version": "3.11.0"
  },
  "orig_nbformat": 4
 },
 "nbformat": 4,
 "nbformat_minor": 2
}
